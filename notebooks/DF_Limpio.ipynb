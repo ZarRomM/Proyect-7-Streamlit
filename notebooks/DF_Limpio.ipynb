{
 "cells": [
  {
   "cell_type": "code",
   "execution_count": 22,
   "id": "54fda594",
   "metadata": {},
   "outputs": [],
   "source": [
    "import pandas as pd\n",
    "import numpy as np\n",
    "import seaborn as sns\n",
    "import matplotlib.pyplot as plt\n",
    "import math\n",
    "from scipy import stats as st"
   ]
  },
  {
   "cell_type": "code",
   "execution_count": 23,
   "id": "6f298492",
   "metadata": {},
   "outputs": [
    {
     "name": "stdout",
     "output_type": "stream",
     "text": [
      "#############################################\n",
      "#                VEHICLES-US                #\n",
      "#############################################\n",
      "\n",
      "╔════════════════════════════════╗\n",
      "║   ANÁLISIS DE CIENCIA DE DATOS ║\n",
      "║         DESARROLLADO POR       ║\n",
      "║    Mauricio Zárate Romero      ║\n",
      "╚════════════════════════════════╝\n"
     ]
    }
   ],
   "source": [
    "# Carga de archivos de DataFrame\n",
    "\n",
    "print(\"#############################################\")\n",
    "print(\"#                VEHICLES-US                #\")\n",
    "print(\"#############################################\")\n",
    "\n",
    "print(\"\\n╔════════════════════════════════╗\")  \n",
    "print(\"║   ANÁLISIS DE CIENCIA DE DATOS ║\")  \n",
    "print(\"║         DESARROLLADO POR       ║\")  \n",
    "print(\"║    Mauricio Zárate Romero      ║\")  \n",
    "print(\"╚════════════════════════════════╝\") \n",
    "\n",
    "# car_data = df_cd\n",
    "\n",
    "df_cd_copy = pd.read_csv('vehicles_us_limpio.csv')\n",
    "\n",
    "# Copia de seguridad para no modificar los DataFrames originales.\n",
    "\n",
    "df_cd = df_cd_copy.copy()"
   ]
  },
  {
   "cell_type": "code",
   "execution_count": 24,
   "id": "ebb553cf",
   "metadata": {},
   "outputs": [
    {
     "name": "stdout",
     "output_type": "stream",
     "text": [
      "\n",
      "╔══════════════════════════════════════════════════╗\n",
      "║                'vehicles_us.csv'                 ║\n",
      "║                  'Información'                   ║\n",
      "╚══════════════════════════════════════════════════╝\n",
      "\n",
      "==================================================\n",
      "<class 'pandas.core.frame.DataFrame'>\n",
      "RangeIndex: 35622 entries, 0 to 35621\n",
      "Data columns (total 13 columns):\n",
      " #   Column        Non-Null Count  Dtype  \n",
      "---  ------        --------------  -----  \n",
      " 0   price         35622 non-null  int64  \n",
      " 1   model_year    35622 non-null  int64  \n",
      " 2   model         35622 non-null  object \n",
      " 3   cylinders     35622 non-null  int64  \n",
      " 4   fuel          35622 non-null  object \n",
      " 5   odometer      35622 non-null  float64\n",
      " 6   transmission  35622 non-null  object \n",
      " 7   type          35622 non-null  object \n",
      " 8   paint_color   35622 non-null  object \n",
      " 9   is_4wd        35622 non-null  int64  \n",
      " 10  date_posted   35622 non-null  object \n",
      " 11  days_listed   35622 non-null  int64  \n",
      " 12  condition     35622 non-null  object \n",
      "dtypes: float64(1), int64(5), object(7)\n",
      "memory usage: 3.5+ MB\n"
     ]
    }
   ],
   "source": [
    "print(\"\\n╔══════════════════════════════════════════════════╗\")\n",
    "print(\"║                'vehicles_us.csv'                 ║\")\n",
    "print(\"║                  'Información'                   ║\")\n",
    "print(\"╚══════════════════════════════════════════════════╝\")\n",
    "print(\"\\n\" + \"=\" * 50)\n",
    "df_cd.info()"
   ]
  },
  {
   "cell_type": "markdown",
   "id": "68f00f16",
   "metadata": {},
   "source": [
    "### odometer"
   ]
  },
  {
   "cell_type": "code",
   "execution_count": 25,
   "id": "e6fbf6a0",
   "metadata": {},
   "outputs": [
    {
     "name": "stdout",
     "output_type": "stream",
     "text": [
      "count     35622.000000\n",
      "mean     117108.697097\n",
      "std       64411.726935\n",
      "min           1.000000\n",
      "25%       72705.500000\n",
      "50%      114473.500000\n",
      "75%      156000.000000\n",
      "max      990000.000000\n",
      "Name: odometer, dtype: float64\n",
      "\n",
      "valores nulos = 0\n",
      "\n",
      "valores nulos despues de limpiarlos = 0\n",
      "\n",
      "El tipo de columna es correcto = float64\n",
      "Series([], Name: count, dtype: int64)\n",
      "\n",
      "Cantidad de vehículos con odómetro en 0: 0\n",
      "\n",
      "Tipo de dato se cambia de float a int = int64\n"
     ]
    }
   ],
   "source": [
    "print(df_cd['odometer'].describe())\n",
    "\n",
    "print(f'\\nvalores nulos = {df_cd[\"odometer\"].isna().sum()}')\n",
    "\n",
    "df_cd = df_cd.dropna(subset='odometer')\n",
    "\n",
    "print(f'\\nvalores nulos despues de limpiarlos = {df_cd[\"odometer\"].isna().sum()}')\n",
    "\n",
    "print(f'\\nEl tipo de columna es correcto = {df_cd['odometer'].dtype}')\n",
    "\n",
    "odometer_cero = df_cd[df_cd['odometer'] == 0].value_counts()\n",
    "\n",
    "# Imprimir el DataFrame filtrado\n",
    "print(odometer_cero)\n",
    "\n",
    "print(f\"\\nCantidad de vehículos con odómetro en 0: {len(odometer_cero)}\")\n",
    "\n",
    "df_cd['odometer'] = df_cd['odometer'].astype(int)\n",
    "print(f'\\nTipo de dato se cambia de float a int = {df_cd[\"odometer\"].dtype}')"
   ]
  },
  {
   "cell_type": "markdown",
   "id": "b03e51e1",
   "metadata": {},
   "source": [
    "se cambia la columna de date_posted a pandas.datetime"
   ]
  },
  {
   "cell_type": "code",
   "execution_count": 26,
   "id": "a4c026ac",
   "metadata": {},
   "outputs": [],
   "source": [
    "df_cd['date_posted'] = pd.to_datetime(df_cd['date_posted'])"
   ]
  },
  {
   "cell_type": "code",
   "execution_count": 27,
   "id": "24170d7c",
   "metadata": {},
   "outputs": [
    {
     "name": "stdout",
     "output_type": "stream",
     "text": [
      "<class 'pandas.core.frame.DataFrame'>\n",
      "RangeIndex: 35622 entries, 0 to 35621\n",
      "Data columns (total 13 columns):\n",
      " #   Column        Non-Null Count  Dtype         \n",
      "---  ------        --------------  -----         \n",
      " 0   price         35622 non-null  int64         \n",
      " 1   model_year    35622 non-null  int64         \n",
      " 2   model         35622 non-null  object        \n",
      " 3   cylinders     35622 non-null  int64         \n",
      " 4   fuel          35622 non-null  object        \n",
      " 5   odometer      35622 non-null  int64         \n",
      " 6   transmission  35622 non-null  object        \n",
      " 7   type          35622 non-null  object        \n",
      " 8   paint_color   35622 non-null  object        \n",
      " 9   is_4wd        35622 non-null  int64         \n",
      " 10  date_posted   35622 non-null  datetime64[ns]\n",
      " 11  days_listed   35622 non-null  int64         \n",
      " 12  condition     35622 non-null  object        \n",
      "dtypes: datetime64[ns](1), int64(6), object(6)\n",
      "memory usage: 3.5+ MB\n"
     ]
    }
   ],
   "source": [
    "df_cd.info()"
   ]
  },
  {
   "cell_type": "code",
   "execution_count": 28,
   "id": "963f68ec",
   "metadata": {},
   "outputs": [
    {
     "data": {
      "application/vnd.microsoft.datawrangler.viewer.v0+json": {
       "columns": [
        {
         "name": "index",
         "rawType": "int64",
         "type": "integer"
        },
        {
         "name": "price",
         "rawType": "int64",
         "type": "integer"
        },
        {
         "name": "model_year",
         "rawType": "int64",
         "type": "integer"
        },
        {
         "name": "model",
         "rawType": "object",
         "type": "string"
        },
        {
         "name": "cylinders",
         "rawType": "int64",
         "type": "integer"
        },
        {
         "name": "fuel",
         "rawType": "object",
         "type": "string"
        },
        {
         "name": "odometer",
         "rawType": "int64",
         "type": "integer"
        },
        {
         "name": "transmission",
         "rawType": "object",
         "type": "string"
        },
        {
         "name": "type",
         "rawType": "object",
         "type": "string"
        },
        {
         "name": "paint_color",
         "rawType": "object",
         "type": "string"
        },
        {
         "name": "is_4wd",
         "rawType": "int64",
         "type": "integer"
        },
        {
         "name": "date_posted",
         "rawType": "datetime64[ns]",
         "type": "datetime"
        },
        {
         "name": "days_listed",
         "rawType": "int64",
         "type": "integer"
        },
        {
         "name": "condition",
         "rawType": "object",
         "type": "string"
        }
       ],
       "ref": "aeaf7b47-0184-4221-8aca-ae5afe340b4e",
       "rows": [
        [
         "0",
         "9400",
         "2011",
         "bmw x5",
         "6",
         "gas",
         "145000",
         "automatic",
         "SUV",
         "Unknown",
         "1",
         "2018-06-23 00:00:00",
         "19",
         "fair"
        ],
        [
         "1",
         "5500",
         "2013",
         "hyundai sonata",
         "4",
         "gas",
         "110000",
         "automatic",
         "sedan",
         "red",
         "0",
         "2019-02-07 00:00:00",
         "79",
         "fair"
        ],
        [
         "2",
         "14900",
         "2017",
         "chrysler 200",
         "4",
         "gas",
         "80903",
         "automatic",
         "sedan",
         "black",
         "0",
         "2019-04-02 00:00:00",
         "28",
         "good"
        ],
        [
         "3",
         "14990",
         "2014",
         "chrysler 300",
         "6",
         "gas",
         "57954",
         "automatic",
         "sedan",
         "black",
         "1",
         "2018-06-20 00:00:00",
         "15",
         "good"
        ],
        [
         "4",
         "12990",
         "2015",
         "toyota camry",
         "4",
         "gas",
         "79212",
         "automatic",
         "sedan",
         "white",
         "0",
         "2018-12-27 00:00:00",
         "73",
         "good"
        ]
       ],
       "shape": {
        "columns": 13,
        "rows": 5
       }
      },
      "text/html": [
       "<div>\n",
       "<style scoped>\n",
       "    .dataframe tbody tr th:only-of-type {\n",
       "        vertical-align: middle;\n",
       "    }\n",
       "\n",
       "    .dataframe tbody tr th {\n",
       "        vertical-align: top;\n",
       "    }\n",
       "\n",
       "    .dataframe thead th {\n",
       "        text-align: right;\n",
       "    }\n",
       "</style>\n",
       "<table border=\"1\" class=\"dataframe\">\n",
       "  <thead>\n",
       "    <tr style=\"text-align: right;\">\n",
       "      <th></th>\n",
       "      <th>price</th>\n",
       "      <th>model_year</th>\n",
       "      <th>model</th>\n",
       "      <th>cylinders</th>\n",
       "      <th>fuel</th>\n",
       "      <th>odometer</th>\n",
       "      <th>transmission</th>\n",
       "      <th>type</th>\n",
       "      <th>paint_color</th>\n",
       "      <th>is_4wd</th>\n",
       "      <th>date_posted</th>\n",
       "      <th>days_listed</th>\n",
       "      <th>condition</th>\n",
       "    </tr>\n",
       "  </thead>\n",
       "  <tbody>\n",
       "    <tr>\n",
       "      <th>0</th>\n",
       "      <td>9400</td>\n",
       "      <td>2011</td>\n",
       "      <td>bmw x5</td>\n",
       "      <td>6</td>\n",
       "      <td>gas</td>\n",
       "      <td>145000</td>\n",
       "      <td>automatic</td>\n",
       "      <td>SUV</td>\n",
       "      <td>Unknown</td>\n",
       "      <td>1</td>\n",
       "      <td>2018-06-23</td>\n",
       "      <td>19</td>\n",
       "      <td>fair</td>\n",
       "    </tr>\n",
       "    <tr>\n",
       "      <th>1</th>\n",
       "      <td>5500</td>\n",
       "      <td>2013</td>\n",
       "      <td>hyundai sonata</td>\n",
       "      <td>4</td>\n",
       "      <td>gas</td>\n",
       "      <td>110000</td>\n",
       "      <td>automatic</td>\n",
       "      <td>sedan</td>\n",
       "      <td>red</td>\n",
       "      <td>0</td>\n",
       "      <td>2019-02-07</td>\n",
       "      <td>79</td>\n",
       "      <td>fair</td>\n",
       "    </tr>\n",
       "    <tr>\n",
       "      <th>2</th>\n",
       "      <td>14900</td>\n",
       "      <td>2017</td>\n",
       "      <td>chrysler 200</td>\n",
       "      <td>4</td>\n",
       "      <td>gas</td>\n",
       "      <td>80903</td>\n",
       "      <td>automatic</td>\n",
       "      <td>sedan</td>\n",
       "      <td>black</td>\n",
       "      <td>0</td>\n",
       "      <td>2019-04-02</td>\n",
       "      <td>28</td>\n",
       "      <td>good</td>\n",
       "    </tr>\n",
       "    <tr>\n",
       "      <th>3</th>\n",
       "      <td>14990</td>\n",
       "      <td>2014</td>\n",
       "      <td>chrysler 300</td>\n",
       "      <td>6</td>\n",
       "      <td>gas</td>\n",
       "      <td>57954</td>\n",
       "      <td>automatic</td>\n",
       "      <td>sedan</td>\n",
       "      <td>black</td>\n",
       "      <td>1</td>\n",
       "      <td>2018-06-20</td>\n",
       "      <td>15</td>\n",
       "      <td>good</td>\n",
       "    </tr>\n",
       "    <tr>\n",
       "      <th>4</th>\n",
       "      <td>12990</td>\n",
       "      <td>2015</td>\n",
       "      <td>toyota camry</td>\n",
       "      <td>4</td>\n",
       "      <td>gas</td>\n",
       "      <td>79212</td>\n",
       "      <td>automatic</td>\n",
       "      <td>sedan</td>\n",
       "      <td>white</td>\n",
       "      <td>0</td>\n",
       "      <td>2018-12-27</td>\n",
       "      <td>73</td>\n",
       "      <td>good</td>\n",
       "    </tr>\n",
       "  </tbody>\n",
       "</table>\n",
       "</div>"
      ],
      "text/plain": [
       "   price  model_year           model  cylinders fuel  odometer transmission  \\\n",
       "0   9400        2011          bmw x5          6  gas    145000    automatic   \n",
       "1   5500        2013  hyundai sonata          4  gas    110000    automatic   \n",
       "2  14900        2017    chrysler 200          4  gas     80903    automatic   \n",
       "3  14990        2014    chrysler 300          6  gas     57954    automatic   \n",
       "4  12990        2015    toyota camry          4  gas     79212    automatic   \n",
       "\n",
       "    type paint_color  is_4wd date_posted  days_listed condition  \n",
       "0    SUV     Unknown       1  2018-06-23           19      fair  \n",
       "1  sedan         red       0  2019-02-07           79      fair  \n",
       "2  sedan       black       0  2019-04-02           28      good  \n",
       "3  sedan       black       1  2018-06-20           15      good  \n",
       "4  sedan       white       0  2018-12-27           73      good  "
      ]
     },
     "execution_count": 28,
     "metadata": {},
     "output_type": "execute_result"
    }
   ],
   "source": [
    "df_cd.head()"
   ]
  },
  {
   "cell_type": "code",
   "execution_count": 29,
   "id": "6bd5c9b0",
   "metadata": {},
   "outputs": [
    {
     "name": "stdout",
     "output_type": "stream",
     "text": [
      "price           0\n",
      "model_year      0\n",
      "model           0\n",
      "cylinders       0\n",
      "fuel            0\n",
      "odometer        0\n",
      "transmission    0\n",
      "type            0\n",
      "paint_color     0\n",
      "is_4wd          0\n",
      "date_posted     0\n",
      "days_listed     0\n",
      "condition       0\n",
      "dtype: int64\n"
     ]
    }
   ],
   "source": [
    "print(df_cd.isna().sum())"
   ]
  },
  {
   "cell_type": "markdown",
   "id": "ff044b30",
   "metadata": {},
   "source": [
    "#### Se crea una nueva columna para poder analizar la condicion del auto con respecto a facores numéricos"
   ]
  },
  {
   "cell_type": "code",
   "execution_count": 30,
   "id": "325460c5",
   "metadata": {},
   "outputs": [],
   "source": [
    "condition_map = {\n",
    "    'new': 5,\n",
    "    'like new': 4,\n",
    "    'excellent': 3,\n",
    "    'good': 2,\n",
    "    'fair': 1,\n",
    "    'salvage': 0\n",
    "}\n",
    "df_cd['condition_numeric'] = df_cd['condition'].map(condition_map)\n"
   ]
  },
  {
   "cell_type": "markdown",
   "id": "13f921a4",
   "metadata": {},
   "source": [
    "# Se guarda el DF"
   ]
  },
  {
   "cell_type": "code",
   "execution_count": 31,
   "id": "a65b48da",
   "metadata": {},
   "outputs": [],
   "source": [
    "df_cd.to_csv('vehicles_us_limpio_V2.csv', index=False)"
   ]
  }
 ],
 "metadata": {
  "kernelspec": {
   "display_name": "venv",
   "language": "python",
   "name": "python3"
  },
  "language_info": {
   "codemirror_mode": {
    "name": "ipython",
    "version": 3
   },
   "file_extension": ".py",
   "mimetype": "text/x-python",
   "name": "python",
   "nbconvert_exporter": "python",
   "pygments_lexer": "ipython3",
   "version": "3.12.10"
  }
 },
 "nbformat": 4,
 "nbformat_minor": 5
}
